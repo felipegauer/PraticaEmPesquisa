{
  "cells": [
    {
      "cell_type": "code",
      "execution_count": null,
      "metadata": {
        "id": "VjnKFHLcevCc"
      },
      "outputs": [],
      "source": [
        "import torch\n",
        "import torchvision\n",
        "#import skimage.io as io\n",
        "import numpy as np\n",
        "import torchvision.transforms as t\n",
        "import torch.nn as nn\n",
        "import os\n",
        "import matplotlib.pyplot as plt\n",
        "import torchvision.models as model\n",
        "from torchsummary import summary\n",
        "\n",
        "#from sklearn.metrics import accuracy_score\n",
        "\n",
        "torch.cuda.set_device(0)\n",
        "#device=torch.device(#\"cuda\" if torch.cuda.is_available() else \"cpu\")\n",
        "#print(\"device= \",device)\n",
        "\n",
        "\n",
        "train_path=\"/content/drive/MyDrive/HUGA_IMG_ALL_VALUE/training\"#\"/content/drive/MyDrive/HUGA_HEAT_MAP_IMG/training\" MHEALTH_IMG HUGA_HEAT_SEC_IMG_1\n",
        "test_path=\"/content/drive/MyDrive/HUGA_IMG_ALL_VALUE/validation\"#\"/content/drive/MyDrive/MENTALHEALTH_HEAT_MAP_IMG/validation\"\n",
        "val_path=\"/content/drive/MyDrive/HUGA_IMG_ALL_VALUE/validation\"#\"/content/drive/MyDrive/MENTALHEALTH_HEAT_MAP_IMG/validation\"\n",
        "#plot_path=\"/content/drive/MyDrive/HUGA_IMG_ALL_VALUE_RESULTT\"#\"/content/drive/MyDrive/HUGA_HEATMAP_RESULT\"HUGA_RESULT MHEALTH_RESULT\n",
        "snapshot_path=\"/content/drive/MyDrive/HUGA_IMG_ALL_VALUE_RESULT\"#\"/content/drive/MyDrive/MENTAL_HEALTH_HEATMAP_RESULT\"\n",
        "\n",
        "#model_name='resnet18_4'\n",
        "#\"loss_\"+model_name+\".png\"\n",
        "#/content/drive/MyDrive/HUGA_IMG_ALL_VALUE_RESULT/huga_mobilenet_v3_large__features.csv\n",
        "model_name='huga_mobilenet_v3_large_final' \n",
        "feature_fileName= snapshot_path+'/'+model_name+'__features.csv'\n",
        "label_fileName= snapshot_path+'/'+model_name+'__labels.csv'\n",
        "plot_path=snapshot_path+\"/loss_\"+model_name+\".png\"\n",
        "\n",
        "\n"
      ]
    },
    {
      "cell_type": "code",
      "source": [
        "from google.colab import drive\n",
        "drive.mount('/content/drive')"
      ],
      "metadata": {
        "colab": {
          "base_uri": "https://localhost:8080/"
        },
        "id": "QyAZldjymoH9",
        "outputId": "f7ec34d1-668f-4b5d-f97a-235fb3e24eca"
      },
      "execution_count": null,
      "outputs": [
        {
          "output_type": "stream",
          "name": "stdout",
          "text": [
            "Mounted at /content/drive\n"
          ]
        }
      ]
    },
    {
      "cell_type": "code",
      "execution_count": null,
      "metadata": {
        "colab": {
          "base_uri": "https://localhost:8080/",
          "height": 1000
        },
        "id": "rhlruTzZAGrH",
        "outputId": "aa03d619-6961-469e-831a-f7314a6a354a"
      },
      "outputs": [
        {
          "output_type": "stream",
          "name": "stdout",
          "text": [
            "EfficientNet(\n",
            "  (features): Sequential(\n",
            "    (0): ConvNormActivation(\n",
            "      (0): Conv2d(3, 32, kernel_size=(3, 3), stride=(2, 2), padding=(1, 1), bias=False)\n",
            "      (1): BatchNorm2d(32, eps=1e-05, momentum=0.1, affine=True, track_running_stats=True)\n",
            "      (2): SiLU(inplace=True)\n",
            "    )\n",
            "    (1): Sequential(\n",
            "      (0): MBConv(\n",
            "        (block): Sequential(\n",
            "          (0): ConvNormActivation(\n",
            "            (0): Conv2d(32, 32, kernel_size=(3, 3), stride=(1, 1), padding=(1, 1), groups=32, bias=False)\n",
            "            (1): BatchNorm2d(32, eps=1e-05, momentum=0.1, affine=True, track_running_stats=True)\n",
            "            (2): SiLU(inplace=True)\n",
            "          )\n",
            "          (1): SqueezeExcitation(\n",
            "            (avgpool): AdaptiveAvgPool2d(output_size=1)\n",
            "            (fc1): Conv2d(32, 8, kernel_size=(1, 1), stride=(1, 1))\n",
            "            (fc2): Conv2d(8, 32, kernel_size=(1, 1), stride=(1, 1))\n",
            "            (activation): SiLU(inplace=True)\n",
            "            (scale_activation): Sigmoid()\n",
            "          )\n",
            "          (2): ConvNormActivation(\n",
            "            (0): Conv2d(32, 16, kernel_size=(1, 1), stride=(1, 1), bias=False)\n",
            "            (1): BatchNorm2d(16, eps=1e-05, momentum=0.1, affine=True, track_running_stats=True)\n",
            "          )\n",
            "        )\n",
            "        (stochastic_depth): StochasticDepth(p=0.0, mode=row)\n",
            "      )\n",
            "    )\n",
            "    (2): Sequential(\n",
            "      (0): MBConv(\n",
            "        (block): Sequential(\n",
            "          (0): ConvNormActivation(\n",
            "            (0): Conv2d(16, 96, kernel_size=(1, 1), stride=(1, 1), bias=False)\n",
            "            (1): BatchNorm2d(96, eps=1e-05, momentum=0.1, affine=True, track_running_stats=True)\n",
            "            (2): SiLU(inplace=True)\n",
            "          )\n",
            "          (1): ConvNormActivation(\n",
            "            (0): Conv2d(96, 96, kernel_size=(3, 3), stride=(2, 2), padding=(1, 1), groups=96, bias=False)\n",
            "            (1): BatchNorm2d(96, eps=1e-05, momentum=0.1, affine=True, track_running_stats=True)\n",
            "            (2): SiLU(inplace=True)\n",
            "          )\n",
            "          (2): SqueezeExcitation(\n",
            "            (avgpool): AdaptiveAvgPool2d(output_size=1)\n",
            "            (fc1): Conv2d(96, 4, kernel_size=(1, 1), stride=(1, 1))\n",
            "            (fc2): Conv2d(4, 96, kernel_size=(1, 1), stride=(1, 1))\n",
            "            (activation): SiLU(inplace=True)\n",
            "            (scale_activation): Sigmoid()\n",
            "          )\n",
            "          (3): ConvNormActivation(\n",
            "            (0): Conv2d(96, 24, kernel_size=(1, 1), stride=(1, 1), bias=False)\n",
            "            (1): BatchNorm2d(24, eps=1e-05, momentum=0.1, affine=True, track_running_stats=True)\n",
            "          )\n",
            "        )\n",
            "        (stochastic_depth): StochasticDepth(p=0.0125, mode=row)\n",
            "      )\n",
            "      (1): MBConv(\n",
            "        (block): Sequential(\n",
            "          (0): ConvNormActivation(\n",
            "            (0): Conv2d(24, 144, kernel_size=(1, 1), stride=(1, 1), bias=False)\n",
            "            (1): BatchNorm2d(144, eps=1e-05, momentum=0.1, affine=True, track_running_stats=True)\n",
            "            (2): SiLU(inplace=True)\n",
            "          )\n",
            "          (1): ConvNormActivation(\n",
            "            (0): Conv2d(144, 144, kernel_size=(3, 3), stride=(1, 1), padding=(1, 1), groups=144, bias=False)\n",
            "            (1): BatchNorm2d(144, eps=1e-05, momentum=0.1, affine=True, track_running_stats=True)\n",
            "            (2): SiLU(inplace=True)\n",
            "          )\n",
            "          (2): SqueezeExcitation(\n",
            "            (avgpool): AdaptiveAvgPool2d(output_size=1)\n",
            "            (fc1): Conv2d(144, 6, kernel_size=(1, 1), stride=(1, 1))\n",
            "            (fc2): Conv2d(6, 144, kernel_size=(1, 1), stride=(1, 1))\n",
            "            (activation): SiLU(inplace=True)\n",
            "            (scale_activation): Sigmoid()\n",
            "          )\n",
            "          (3): ConvNormActivation(\n",
            "            (0): Conv2d(144, 24, kernel_size=(1, 1), stride=(1, 1), bias=False)\n",
            "            (1): BatchNorm2d(24, eps=1e-05, momentum=0.1, affine=True, track_running_stats=True)\n",
            "          )\n",
            "        )\n",
            "        (stochastic_depth): StochasticDepth(p=0.025, mode=row)\n",
            "      )\n",
            "    )\n",
            "    (3): Sequential(\n",
            "      (0): MBConv(\n",
            "        (block): Sequential(\n",
            "          (0): ConvNormActivation(\n",
            "            (0): Conv2d(24, 144, kernel_size=(1, 1), stride=(1, 1), bias=False)\n",
            "            (1): BatchNorm2d(144, eps=1e-05, momentum=0.1, affine=True, track_running_stats=True)\n",
            "            (2): SiLU(inplace=True)\n",
            "          )\n",
            "          (1): ConvNormActivation(\n",
            "            (0): Conv2d(144, 144, kernel_size=(5, 5), stride=(2, 2), padding=(2, 2), groups=144, bias=False)\n",
            "            (1): BatchNorm2d(144, eps=1e-05, momentum=0.1, affine=True, track_running_stats=True)\n",
            "            (2): SiLU(inplace=True)\n",
            "          )\n",
            "          (2): SqueezeExcitation(\n",
            "            (avgpool): AdaptiveAvgPool2d(output_size=1)\n",
            "            (fc1): Conv2d(144, 6, kernel_size=(1, 1), stride=(1, 1))\n",
            "            (fc2): Conv2d(6, 144, kernel_size=(1, 1), stride=(1, 1))\n",
            "            (activation): SiLU(inplace=True)\n",
            "            (scale_activation): Sigmoid()\n",
            "          )\n",
            "          (3): ConvNormActivation(\n",
            "            (0): Conv2d(144, 40, kernel_size=(1, 1), stride=(1, 1), bias=False)\n",
            "            (1): BatchNorm2d(40, eps=1e-05, momentum=0.1, affine=True, track_running_stats=True)\n",
            "          )\n",
            "        )\n",
            "        (stochastic_depth): StochasticDepth(p=0.037500000000000006, mode=row)\n",
            "      )\n",
            "      (1): MBConv(\n",
            "        (block): Sequential(\n",
            "          (0): ConvNormActivation(\n",
            "            (0): Conv2d(40, 240, kernel_size=(1, 1), stride=(1, 1), bias=False)\n",
            "            (1): BatchNorm2d(240, eps=1e-05, momentum=0.1, affine=True, track_running_stats=True)\n",
            "            (2): SiLU(inplace=True)\n",
            "          )\n",
            "          (1): ConvNormActivation(\n",
            "            (0): Conv2d(240, 240, kernel_size=(5, 5), stride=(1, 1), padding=(2, 2), groups=240, bias=False)\n",
            "            (1): BatchNorm2d(240, eps=1e-05, momentum=0.1, affine=True, track_running_stats=True)\n",
            "            (2): SiLU(inplace=True)\n",
            "          )\n",
            "          (2): SqueezeExcitation(\n",
            "            (avgpool): AdaptiveAvgPool2d(output_size=1)\n",
            "            (fc1): Conv2d(240, 10, kernel_size=(1, 1), stride=(1, 1))\n",
            "            (fc2): Conv2d(10, 240, kernel_size=(1, 1), stride=(1, 1))\n",
            "            (activation): SiLU(inplace=True)\n",
            "            (scale_activation): Sigmoid()\n",
            "          )\n",
            "          (3): ConvNormActivation(\n",
            "            (0): Conv2d(240, 40, kernel_size=(1, 1), stride=(1, 1), bias=False)\n",
            "            (1): BatchNorm2d(40, eps=1e-05, momentum=0.1, affine=True, track_running_stats=True)\n",
            "          )\n",
            "        )\n",
            "        (stochastic_depth): StochasticDepth(p=0.05, mode=row)\n",
            "      )\n",
            "    )\n",
            "    (4): Sequential(\n",
            "      (0): MBConv(\n",
            "        (block): Sequential(\n",
            "          (0): ConvNormActivation(\n",
            "            (0): Conv2d(40, 240, kernel_size=(1, 1), stride=(1, 1), bias=False)\n",
            "            (1): BatchNorm2d(240, eps=1e-05, momentum=0.1, affine=True, track_running_stats=True)\n",
            "            (2): SiLU(inplace=True)\n",
            "          )\n",
            "          (1): ConvNormActivation(\n",
            "            (0): Conv2d(240, 240, kernel_size=(3, 3), stride=(2, 2), padding=(1, 1), groups=240, bias=False)\n",
            "            (1): BatchNorm2d(240, eps=1e-05, momentum=0.1, affine=True, track_running_stats=True)\n",
            "            (2): SiLU(inplace=True)\n",
            "          )\n",
            "          (2): SqueezeExcitation(\n",
            "            (avgpool): AdaptiveAvgPool2d(output_size=1)\n",
            "            (fc1): Conv2d(240, 10, kernel_size=(1, 1), stride=(1, 1))\n",
            "            (fc2): Conv2d(10, 240, kernel_size=(1, 1), stride=(1, 1))\n",
            "            (activation): SiLU(inplace=True)\n",
            "            (scale_activation): Sigmoid()\n",
            "          )\n",
            "          (3): ConvNormActivation(\n",
            "            (0): Conv2d(240, 80, kernel_size=(1, 1), stride=(1, 1), bias=False)\n",
            "            (1): BatchNorm2d(80, eps=1e-05, momentum=0.1, affine=True, track_running_stats=True)\n",
            "          )\n",
            "        )\n",
            "        (stochastic_depth): StochasticDepth(p=0.0625, mode=row)\n",
            "      )\n",
            "      (1): MBConv(\n",
            "        (block): Sequential(\n",
            "          (0): ConvNormActivation(\n",
            "            (0): Conv2d(80, 480, kernel_size=(1, 1), stride=(1, 1), bias=False)\n",
            "            (1): BatchNorm2d(480, eps=1e-05, momentum=0.1, affine=True, track_running_stats=True)\n",
            "            (2): SiLU(inplace=True)\n",
            "          )\n",
            "          (1): ConvNormActivation(\n",
            "            (0): Conv2d(480, 480, kernel_size=(3, 3), stride=(1, 1), padding=(1, 1), groups=480, bias=False)\n",
            "            (1): BatchNorm2d(480, eps=1e-05, momentum=0.1, affine=True, track_running_stats=True)\n",
            "            (2): SiLU(inplace=True)\n",
            "          )\n",
            "          (2): SqueezeExcitation(\n",
            "            (avgpool): AdaptiveAvgPool2d(output_size=1)\n",
            "            (fc1): Conv2d(480, 20, kernel_size=(1, 1), stride=(1, 1))\n",
            "            (fc2): Conv2d(20, 480, kernel_size=(1, 1), stride=(1, 1))\n",
            "            (activation): SiLU(inplace=True)\n",
            "            (scale_activation): Sigmoid()\n",
            "          )\n",
            "          (3): ConvNormActivation(\n",
            "            (0): Conv2d(480, 80, kernel_size=(1, 1), stride=(1, 1), bias=False)\n",
            "            (1): BatchNorm2d(80, eps=1e-05, momentum=0.1, affine=True, track_running_stats=True)\n",
            "          )\n",
            "        )\n",
            "        (stochastic_depth): StochasticDepth(p=0.07500000000000001, mode=row)\n",
            "      )\n",
            "      (2): MBConv(\n",
            "        (block): Sequential(\n",
            "          (0): ConvNormActivation(\n",
            "            (0): Conv2d(80, 480, kernel_size=(1, 1), stride=(1, 1), bias=False)\n",
            "            (1): BatchNorm2d(480, eps=1e-05, momentum=0.1, affine=True, track_running_stats=True)\n",
            "            (2): SiLU(inplace=True)\n",
            "          )\n",
            "          (1): ConvNormActivation(\n",
            "            (0): Conv2d(480, 480, kernel_size=(3, 3), stride=(1, 1), padding=(1, 1), groups=480, bias=False)\n",
            "            (1): BatchNorm2d(480, eps=1e-05, momentum=0.1, affine=True, track_running_stats=True)\n",
            "            (2): SiLU(inplace=True)\n",
            "          )\n",
            "          (2): SqueezeExcitation(\n",
            "            (avgpool): AdaptiveAvgPool2d(output_size=1)\n",
            "            (fc1): Conv2d(480, 20, kernel_size=(1, 1), stride=(1, 1))\n",
            "            (fc2): Conv2d(20, 480, kernel_size=(1, 1), stride=(1, 1))\n",
            "            (activation): SiLU(inplace=True)\n",
            "            (scale_activation): Sigmoid()\n",
            "          )\n",
            "          (3): ConvNormActivation(\n",
            "            (0): Conv2d(480, 80, kernel_size=(1, 1), stride=(1, 1), bias=False)\n",
            "            (1): BatchNorm2d(80, eps=1e-05, momentum=0.1, affine=True, track_running_stats=True)\n",
            "          )\n",
            "        )\n",
            "        (stochastic_depth): StochasticDepth(p=0.08750000000000001, mode=row)\n",
            "      )\n",
            "    )\n",
            "    (5): Sequential(\n",
            "      (0): MBConv(\n",
            "        (block): Sequential(\n",
            "          (0): ConvNormActivation(\n",
            "            (0): Conv2d(80, 480, kernel_size=(1, 1), stride=(1, 1), bias=False)\n",
            "            (1): BatchNorm2d(480, eps=1e-05, momentum=0.1, affine=True, track_running_stats=True)\n",
            "            (2): SiLU(inplace=True)\n",
            "          )\n",
            "          (1): ConvNormActivation(\n",
            "            (0): Conv2d(480, 480, kernel_size=(5, 5), stride=(1, 1), padding=(2, 2), groups=480, bias=False)\n",
            "            (1): BatchNorm2d(480, eps=1e-05, momentum=0.1, affine=True, track_running_stats=True)\n",
            "            (2): SiLU(inplace=True)\n",
            "          )\n",
            "          (2): SqueezeExcitation(\n",
            "            (avgpool): AdaptiveAvgPool2d(output_size=1)\n",
            "            (fc1): Conv2d(480, 20, kernel_size=(1, 1), stride=(1, 1))\n",
            "            (fc2): Conv2d(20, 480, kernel_size=(1, 1), stride=(1, 1))\n",
            "            (activation): SiLU(inplace=True)\n",
            "            (scale_activation): Sigmoid()\n",
            "          )\n",
            "          (3): ConvNormActivation(\n",
            "            (0): Conv2d(480, 112, kernel_size=(1, 1), stride=(1, 1), bias=False)\n",
            "            (1): BatchNorm2d(112, eps=1e-05, momentum=0.1, affine=True, track_running_stats=True)\n",
            "          )\n",
            "        )\n",
            "        (stochastic_depth): StochasticDepth(p=0.1, mode=row)\n",
            "      )\n",
            "      (1): MBConv(\n",
            "        (block): Sequential(\n",
            "          (0): ConvNormActivation(\n",
            "            (0): Conv2d(112, 672, kernel_size=(1, 1), stride=(1, 1), bias=False)\n",
            "            (1): BatchNorm2d(672, eps=1e-05, momentum=0.1, affine=True, track_running_stats=True)\n",
            "            (2): SiLU(inplace=True)\n",
            "          )\n",
            "          (1): ConvNormActivation(\n",
            "            (0): Conv2d(672, 672, kernel_size=(5, 5), stride=(1, 1), padding=(2, 2), groups=672, bias=False)\n",
            "            (1): BatchNorm2d(672, eps=1e-05, momentum=0.1, affine=True, track_running_stats=True)\n",
            "            (2): SiLU(inplace=True)\n",
            "          )\n",
            "          (2): SqueezeExcitation(\n",
            "            (avgpool): AdaptiveAvgPool2d(output_size=1)\n",
            "            (fc1): Conv2d(672, 28, kernel_size=(1, 1), stride=(1, 1))\n",
            "            (fc2): Conv2d(28, 672, kernel_size=(1, 1), stride=(1, 1))\n",
            "            (activation): SiLU(inplace=True)\n",
            "            (scale_activation): Sigmoid()\n",
            "          )\n",
            "          (3): ConvNormActivation(\n",
            "            (0): Conv2d(672, 112, kernel_size=(1, 1), stride=(1, 1), bias=False)\n",
            "            (1): BatchNorm2d(112, eps=1e-05, momentum=0.1, affine=True, track_running_stats=True)\n",
            "          )\n",
            "        )\n",
            "        (stochastic_depth): StochasticDepth(p=0.1125, mode=row)\n",
            "      )\n",
            "      (2): MBConv(\n",
            "        (block): Sequential(\n",
            "          (0): ConvNormActivation(\n",
            "            (0): Conv2d(112, 672, kernel_size=(1, 1), stride=(1, 1), bias=False)\n",
            "            (1): BatchNorm2d(672, eps=1e-05, momentum=0.1, affine=True, track_running_stats=True)\n",
            "            (2): SiLU(inplace=True)\n",
            "          )\n",
            "          (1): ConvNormActivation(\n",
            "            (0): Conv2d(672, 672, kernel_size=(5, 5), stride=(1, 1), padding=(2, 2), groups=672, bias=False)\n",
            "            (1): BatchNorm2d(672, eps=1e-05, momentum=0.1, affine=True, track_running_stats=True)\n",
            "            (2): SiLU(inplace=True)\n",
            "          )\n",
            "          (2): SqueezeExcitation(\n",
            "            (avgpool): AdaptiveAvgPool2d(output_size=1)\n",
            "            (fc1): Conv2d(672, 28, kernel_size=(1, 1), stride=(1, 1))\n",
            "            (fc2): Conv2d(28, 672, kernel_size=(1, 1), stride=(1, 1))\n",
            "            (activation): SiLU(inplace=True)\n",
            "            (scale_activation): Sigmoid()\n",
            "          )\n",
            "          (3): ConvNormActivation(\n",
            "            (0): Conv2d(672, 112, kernel_size=(1, 1), stride=(1, 1), bias=False)\n",
            "            (1): BatchNorm2d(112, eps=1e-05, momentum=0.1, affine=True, track_running_stats=True)\n",
            "          )\n",
            "        )\n",
            "        (stochastic_depth): StochasticDepth(p=0.125, mode=row)\n",
            "      )\n",
            "    )\n",
            "    (6): Sequential(\n",
            "      (0): MBConv(\n",
            "        (block): Sequential(\n",
            "          (0): ConvNormActivation(\n",
            "            (0): Conv2d(112, 672, kernel_size=(1, 1), stride=(1, 1), bias=False)\n",
            "            (1): BatchNorm2d(672, eps=1e-05, momentum=0.1, affine=True, track_running_stats=True)\n",
            "            (2): SiLU(inplace=True)\n",
            "          )\n",
            "          (1): ConvNormActivation(\n",
            "            (0): Conv2d(672, 672, kernel_size=(5, 5), stride=(2, 2), padding=(2, 2), groups=672, bias=False)\n",
            "            (1): BatchNorm2d(672, eps=1e-05, momentum=0.1, affine=True, track_running_stats=True)\n",
            "            (2): SiLU(inplace=True)\n",
            "          )\n",
            "          (2): SqueezeExcitation(\n",
            "            (avgpool): AdaptiveAvgPool2d(output_size=1)\n",
            "            (fc1): Conv2d(672, 28, kernel_size=(1, 1), stride=(1, 1))\n",
            "            (fc2): Conv2d(28, 672, kernel_size=(1, 1), stride=(1, 1))\n",
            "            (activation): SiLU(inplace=True)\n",
            "            (scale_activation): Sigmoid()\n",
            "          )\n",
            "          (3): ConvNormActivation(\n",
            "            (0): Conv2d(672, 192, kernel_size=(1, 1), stride=(1, 1), bias=False)\n",
            "            (1): BatchNorm2d(192, eps=1e-05, momentum=0.1, affine=True, track_running_stats=True)\n",
            "          )\n",
            "        )\n",
            "        (stochastic_depth): StochasticDepth(p=0.1375, mode=row)\n",
            "      )\n",
            "      (1): MBConv(\n",
            "        (block): Sequential(\n",
            "          (0): ConvNormActivation(\n",
            "            (0): Conv2d(192, 1152, kernel_size=(1, 1), stride=(1, 1), bias=False)\n",
            "            (1): BatchNorm2d(1152, eps=1e-05, momentum=0.1, affine=True, track_running_stats=True)\n",
            "            (2): SiLU(inplace=True)\n",
            "          )\n",
            "          (1): ConvNormActivation(\n",
            "            (0): Conv2d(1152, 1152, kernel_size=(5, 5), stride=(1, 1), padding=(2, 2), groups=1152, bias=False)\n",
            "            (1): BatchNorm2d(1152, eps=1e-05, momentum=0.1, affine=True, track_running_stats=True)\n",
            "            (2): SiLU(inplace=True)\n",
            "          )\n",
            "          (2): SqueezeExcitation(\n",
            "            (avgpool): AdaptiveAvgPool2d(output_size=1)\n",
            "            (fc1): Conv2d(1152, 48, kernel_size=(1, 1), stride=(1, 1))\n",
            "            (fc2): Conv2d(48, 1152, kernel_size=(1, 1), stride=(1, 1))\n",
            "            (activation): SiLU(inplace=True)\n",
            "            (scale_activation): Sigmoid()\n",
            "          )\n",
            "          (3): ConvNormActivation(\n",
            "            (0): Conv2d(1152, 192, kernel_size=(1, 1), stride=(1, 1), bias=False)\n",
            "            (1): BatchNorm2d(192, eps=1e-05, momentum=0.1, affine=True, track_running_stats=True)\n",
            "          )\n",
            "        )\n",
            "        (stochastic_depth): StochasticDepth(p=0.15000000000000002, mode=row)\n",
            "      )\n",
            "      (2): MBConv(\n",
            "        (block): Sequential(\n",
            "          (0): ConvNormActivation(\n",
            "            (0): Conv2d(192, 1152, kernel_size=(1, 1), stride=(1, 1), bias=False)\n",
            "            (1): BatchNorm2d(1152, eps=1e-05, momentum=0.1, affine=True, track_running_stats=True)\n",
            "            (2): SiLU(inplace=True)\n",
            "          )\n",
            "          (1): ConvNormActivation(\n",
            "            (0): Conv2d(1152, 1152, kernel_size=(5, 5), stride=(1, 1), padding=(2, 2), groups=1152, bias=False)\n",
            "            (1): BatchNorm2d(1152, eps=1e-05, momentum=0.1, affine=True, track_running_stats=True)\n",
            "            (2): SiLU(inplace=True)\n",
            "          )\n",
            "          (2): SqueezeExcitation(\n",
            "            (avgpool): AdaptiveAvgPool2d(output_size=1)\n",
            "            (fc1): Conv2d(1152, 48, kernel_size=(1, 1), stride=(1, 1))\n",
            "            (fc2): Conv2d(48, 1152, kernel_size=(1, 1), stride=(1, 1))\n",
            "            (activation): SiLU(inplace=True)\n",
            "            (scale_activation): Sigmoid()\n",
            "          )\n",
            "          (3): ConvNormActivation(\n",
            "            (0): Conv2d(1152, 192, kernel_size=(1, 1), stride=(1, 1), bias=False)\n",
            "            (1): BatchNorm2d(192, eps=1e-05, momentum=0.1, affine=True, track_running_stats=True)\n",
            "          )\n",
            "        )\n",
            "        (stochastic_depth): StochasticDepth(p=0.1625, mode=row)\n",
            "      )\n",
            "      (3): MBConv(\n",
            "        (block): Sequential(\n",
            "          (0): ConvNormActivation(\n",
            "            (0): Conv2d(192, 1152, kernel_size=(1, 1), stride=(1, 1), bias=False)\n",
            "            (1): BatchNorm2d(1152, eps=1e-05, momentum=0.1, affine=True, track_running_stats=True)\n",
            "            (2): SiLU(inplace=True)\n",
            "          )\n",
            "          (1): ConvNormActivation(\n",
            "            (0): Conv2d(1152, 1152, kernel_size=(5, 5), stride=(1, 1), padding=(2, 2), groups=1152, bias=False)\n",
            "            (1): BatchNorm2d(1152, eps=1e-05, momentum=0.1, affine=True, track_running_stats=True)\n",
            "            (2): SiLU(inplace=True)\n",
            "          )\n",
            "          (2): SqueezeExcitation(\n",
            "            (avgpool): AdaptiveAvgPool2d(output_size=1)\n",
            "            (fc1): Conv2d(1152, 48, kernel_size=(1, 1), stride=(1, 1))\n",
            "            (fc2): Conv2d(48, 1152, kernel_size=(1, 1), stride=(1, 1))\n",
            "            (activation): SiLU(inplace=True)\n",
            "            (scale_activation): Sigmoid()\n",
            "          )\n",
            "          (3): ConvNormActivation(\n",
            "            (0): Conv2d(1152, 192, kernel_size=(1, 1), stride=(1, 1), bias=False)\n",
            "            (1): BatchNorm2d(192, eps=1e-05, momentum=0.1, affine=True, track_running_stats=True)\n",
            "          )\n",
            "        )\n",
            "        (stochastic_depth): StochasticDepth(p=0.17500000000000002, mode=row)\n",
            "      )\n",
            "    )\n",
            "    (7): Sequential(\n",
            "      (0): MBConv(\n",
            "        (block): Sequential(\n",
            "          (0): ConvNormActivation(\n",
            "            (0): Conv2d(192, 1152, kernel_size=(1, 1), stride=(1, 1), bias=False)\n",
            "            (1): BatchNorm2d(1152, eps=1e-05, momentum=0.1, affine=True, track_running_stats=True)\n",
            "            (2): SiLU(inplace=True)\n",
            "          )\n",
            "          (1): ConvNormActivation(\n",
            "            (0): Conv2d(1152, 1152, kernel_size=(3, 3), stride=(1, 1), padding=(1, 1), groups=1152, bias=False)\n",
            "            (1): BatchNorm2d(1152, eps=1e-05, momentum=0.1, affine=True, track_running_stats=True)\n",
            "            (2): SiLU(inplace=True)\n",
            "          )\n",
            "          (2): SqueezeExcitation(\n",
            "            (avgpool): AdaptiveAvgPool2d(output_size=1)\n",
            "            (fc1): Conv2d(1152, 48, kernel_size=(1, 1), stride=(1, 1))\n",
            "            (fc2): Conv2d(48, 1152, kernel_size=(1, 1), stride=(1, 1))\n",
            "            (activation): SiLU(inplace=True)\n",
            "            (scale_activation): Sigmoid()\n",
            "          )\n",
            "          (3): ConvNormActivation(\n",
            "            (0): Conv2d(1152, 320, kernel_size=(1, 1), stride=(1, 1), bias=False)\n",
            "            (1): BatchNorm2d(320, eps=1e-05, momentum=0.1, affine=True, track_running_stats=True)\n",
            "          )\n",
            "        )\n",
            "        (stochastic_depth): StochasticDepth(p=0.1875, mode=row)\n",
            "      )\n",
            "    )\n",
            "    (8): ConvNormActivation(\n",
            "      (0): Conv2d(320, 1280, kernel_size=(1, 1), stride=(1, 1), bias=False)\n",
            "      (1): BatchNorm2d(1280, eps=1e-05, momentum=0.1, affine=True, track_running_stats=True)\n",
            "      (2): SiLU(inplace=True)\n",
            "    )\n",
            "  )\n",
            "  (avgpool): AdaptiveAvgPool2d(output_size=1)\n",
            "  (classifier): Sequential(\n",
            "    (0): Dropout(p=0.2, inplace=True)\n",
            "    (1): Linear(in_features=1280, out_features=1000, bias=True)\n",
            "  )\n",
            ")\n"
          ]
        },
        {
          "output_type": "stream",
          "name": "stderr",
          "text": [
            "/usr/local/lib/python3.7/dist-packages/torch/utils/data/dataloader.py:490: UserWarning: This DataLoader will create 18 worker processes in total. Our suggested max number of worker in current system is 2, which is smaller than what this DataLoader is going to create. Please be aware that excessive worker creation might get DataLoader running slow or even freeze, lower the worker number to avoid potential slowness/freeze if necessary.\n",
            "  cpuset_checked))\n"
          ]
        },
        {
          "output_type": "stream",
          "name": "stdout",
          "text": [
            "Accuracy of the network on the train images: 5 %\n",
            "Accuracy of the network on the validation images: 4 %\n"
          ]
        },
        {
          "output_type": "execute_result",
          "data": {
            "text/plain": [
              "'\\nnet=net.eval()\\ncorrect = 0\\ntotal = 0\\ndata3 = []\\nwith torch.no_grad():\\n      for data in test_loader:\\n          images, labels = data\\n          labels=labels.cuda()\\n          outputs1, outputs2 = net(images.cuda())\\n          data3.append(outputs1)\\n          _, predicted = torch.max(outputs2.data, 1)\\n          total += labels.size(0)\\n          correct += (predicted == labels).sum().item()\\n\\nprint(\\'Accuracy of the network on the test images: %d %%\\' % (\\n      100 * correct / total))\\n\\n\\nprint(\"validation MIN loss obtained: {:.6f}\".format(min_loss))\\nnet=net.eval()\\ncorrect = 0\\ntotal = 0\\ndata3 = []\\nwith torch.no_grad():\\n      for data in test_loader:\\n          images, labels = data\\n          labels=labels.cuda()\\n          outputs1, outputs2 = net(images.cuda())\\n          data3.append(outputs1)\\n          _, predicted = torch.max(outputs2.data, 1)\\n          total += labels.size(0)\\n          correct += (predicted == labels).sum().item()\\n\\nprint(\\'Accuracy of the network on the test images: %d %%\\' % (\\n      100 * correct / total))\\n\\nstate1 = {\\n    \"Model_State\": net.cpu().state_dict(),\\n    \"Optimiser_State\": optimizer.state_dict(),\\n\\n}\\ntorch.save(state1,os.path.join(snapshot_path,\"model_\"+model_name1+\\'.pth\\'))\\n\\np = train(100)\\n\\ntemp=p\\nimport csv\\nlabels=[]\\nfor i in range(len(temp[0].tolist()[0])):\\n  labels.append(\"Plain\"+str(i+1))\\nwith open (\"/content/drive/My Drive/ND Sir\\'s Project/HErlev_PlainNet.csv\",\\'w+\\',newline=\\'\\') as file:\\n  writer=csv.writer(file)\\n  writer.writerow(labels)\\n  for i in range(len(temp)):\\n    row=temp[i].tolist()[0]\\n    writer.writerow(row)\\n'"
            ],
            "application/vnd.google.colaboratory.intrinsic+json": {
              "type": "string"
            }
          },
          "metadata": {},
          "execution_count": 11
        }
      ],
      "source": [
        "\n",
        "#set_proper name\n",
        "\n",
        "batch_s = 18\n",
        "# For Resnet resize 224 for googlenet it is 256, inception_v3 299\n",
        "transform=t.Compose([t.Resize((224,224)),\n",
        "                    # t.RandomCrop((299,224)),\n",
        "                     t.RandomHorizontalFlip(),\n",
        "                     t.RandomVerticalFlip(),\n",
        "                     t.RandomAffine(degrees=(-180,180), translate=(0.1,0.1), scale=(0.9,1.1), shear=(-5,5)),\n",
        "                     t.ToTensor()])\n",
        "dset_train=torchvision.datasets.ImageFolder(root=train_path,transform=transform)\n",
        "# For Resnet resize/efficient 224 for googlenet it is 256\n",
        "test_trans=t.Compose([t.Resize((224,224)),t.ToTensor()])\n",
        "#dset_test=torchvision.datasets.ImageFolder(root=test_path,transform=test_trans)\n",
        "dset_val=torchvision.datasets.ImageFolder(root=val_path,transform=test_trans)\n",
        "\n",
        "train_loader=torch.utils.data.DataLoader(dset_train,batch_size=batch_s,shuffle=True,num_workers=18)#,drop_last=True)\n",
        "val_loader=torch.utils.data.DataLoader(dset_val,batch_size=batch_s,shuffle=False,num_workers=18)#,drop_last=True)\n",
        "#test_loader=torch.utils.data.DataLoader(dset_test,batch_size=batch_s,num_workers=16)#, drop_last=True)\n",
        "\n",
        "num_classes = 18\n",
        "#net=model.googlenet()\n",
        "\n",
        "############################## MODEL ########################################\n",
        "\n",
        "\n",
        "\n",
        "\n",
        "\n",
        "\n",
        "#models = torchvision.models.resnet18(pretrained=True)\n",
        "\n",
        "#models = torchvision.models.googlenet(pretrained=True)\n",
        "models = torchvision.models.efficientnet_b0(pretrained=True)\n",
        "\n",
        "print(models)\n",
        "#models = torchvision.models.mobilenet_v3_large(pretrained=True)\n",
        "#num_ftrs = models.classifier[1].in_features\n",
        "#models.classifier[1] = nn.Linear(num_ftrs, num_classes)\n",
        "\n",
        "#net.fc = nn.Linear(net.fc.in_features,num_classes)\n",
        "\n",
        "\n",
        "\n",
        "\n",
        "class MyModel(nn.Module):\n",
        "  def __init__(self):\n",
        "    super(MyModel, self).__init__()\n",
        "    img_modules = list(models.children())[:-1]\n",
        "    self.ModelA = nn.Sequential(*img_modules)\n",
        "    self.relu = nn.ReLU()\n",
        "    self.Linear3 = nn.Linear(1280, num_classes , bias = True) # for resnet 512 for google net 1024 inception_v3 2048 efficient 1280  mobile 960\n",
        "\n",
        "  def forward(self, x):\n",
        "    x = self.ModelA(x) # N x 512 x 1 x 1\n",
        "    x1 = torch.flatten(x, 1) # N x 512\n",
        "    x2 = self.Linear3(x1)\n",
        "   \n",
        "\n",
        "    return  x1, x2\n",
        "\n",
        "\n",
        "\n",
        "\n",
        "\n",
        "\n",
        "\n",
        "#net.fc=nn.Linear(1024,2,True)\n",
        "net = MyModel()\n",
        "net=net.cuda()\n",
        "criterion=nn.CrossEntropyLoss()\n",
        "params = net.parameters()\n",
        "optimizer=torch.optim.Adam(net.parameters())\n",
        "model_name1 = model_name\n",
        "\n",
        "load_model=snapshot_path+'/model_'+model_name+'.pt'\n",
        "loaded_flag=False\n",
        "if os.path.exists(load_model):\n",
        "    checkpoint=torch.load(load_model)\n",
        "    net.load_state_dict(checkpoint['model_state'])\n",
        "    optimizer.load_state_dict(checkpoint['optimizer_state'])\n",
        "    print(\"model loaded successfully\")\n",
        "    print('starting training after epoch: ',checkpoint['epoch'])\n",
        "    loaded_flag=True\n",
        "    \n",
        "\n",
        "def plot(val_loss,train_loss):\n",
        "    plt.title(\"Loss after epoch: {}\".format(len(train_loss)))\n",
        "    plt.xlabel(\"epoch\")\n",
        "    plt.ylabel(\"loss\")\n",
        "    plt.plot(list(range(len(train_loss))),train_loss,color=\"r\",label=\"Train_loss\")\n",
        "    plt.plot(list(range(len(val_loss))),val_loss,color=\"b\",label=\"Validation_loss\")\n",
        "    plt.legend()\n",
        "    plt.savefig(plot_path)\n",
        "    #plt.figure()\n",
        "    plt.close()\n",
        "\n",
        "\n",
        "\n",
        "val_interval=1\n",
        "#max_acc = 0\n",
        "min_loss=99999\n",
        "val_loss_gph=[]\n",
        "train_loss_gph=[]\n",
        "val_loss_my=[]\n",
        "train_loss_my=[]\n",
        "\n",
        "\n",
        "if loaded_flag:\n",
        "    min_loss=checkpoint['loss']\n",
        "    val_loss_gph=checkpoint[\"val_graph\"]\n",
        "    train_loss_gph=checkpoint[\"train_graph\"]\n",
        "\n",
        "\n",
        "########################## TRIAN ##################\n",
        "\n",
        "def train(epoch=5):\n",
        "  i=0\n",
        "  max_acc = 0\n",
        "  global min_loss\n",
        "  flag=True\n",
        "  while i+1<=epoch and flag:\n",
        "    print(\"Epoch {}\".format(i+1 if not loaded_flag else i+1+checkpoint['epoch']))\n",
        "    train_loss=0.0\n",
        "    i+=1\n",
        "    data1 = []\n",
        "    correct=total=0\n",
        "    #net = net.train()\n",
        "    for (image,label) in train_loader:\n",
        "      net.train()\n",
        "      optimizer.zero_grad()\n",
        "      outputs1, outputs2=net(image.cuda())\n",
        "      #data1.append(outputs1)\n",
        "      loss=criterion(outputs2 ,label.cuda())\n",
        "      loss.backward()\n",
        "      optimizer.step()\n",
        "      train_loss+=loss.item()*image.size(0)\n",
        "      _, predicted = torch.max(outputs2.data, 1)\n",
        "      total += label.size(0)\n",
        "      correct += (predicted == label.cuda()).sum().item()\n",
        "    print(\"Train accuracy\", (100*correct/total))\n",
        "    train_loss_gph.append(train_loss/len(dset_train))\n",
        "    train_loss_my.append(train_loss/len(dset_train))\n",
        "    #net = net.eval()\n",
        "    \n",
        "    if (i+1)%val_interval==0 or (i+1)==epoch:\n",
        "        net.eval()\n",
        "        with torch.no_grad():\n",
        "          val_loss=val_acc=0\n",
        "          correct=total=0\n",
        "          #max_acc = 0\n",
        "          for (img_v,lab_v ) in val_loader:\n",
        "            output_v1, output_v2=net(img_v.cuda())\n",
        "            #data1.append(output_v1)\n",
        "            #val_loss+=criterion(output_v2,lab_v.cuda())\n",
        "            val_loss+=criterion(output_v2,lab_v.cuda())*img_v.size(0)\n",
        "            _, predicted = torch.max(output_v2.data, 1)\n",
        "            total += lab_v.size(0)\n",
        "            correct += (predicted == lab_v.cuda()).sum().item()\n",
        "          print(\"Val accuracy\", (100*correct/total))\n",
        "          val_acc = 100*correct/total\n",
        "          val_loss_gph.append(val_loss/len(dset_val))\n",
        "          \n",
        "        \n",
        "          if max_acc<val_acc:#min_loss>val_loss:\n",
        "            state={\n",
        "                \"epoch\":i if not loaded_flag else i+checkpoint['epoch'],\n",
        "                \"model_state\":net.cpu().state_dict(),\n",
        "                \"optimizer_state\":optimizer.state_dict(),\n",
        "                \"loss\":min_loss,\n",
        "                \"train_graph\":train_loss_gph,\n",
        "                \"val_graph\":val_loss_gph,\n",
        "            }\n",
        "            \n",
        "            #min_loss=val_loss\n",
        "            max_acc=val_acc\n",
        "            torch.save(state,os.path.join(snapshot_path,\"model_\"+model_name+'.pt'))\n",
        "            net.cuda()\n",
        "          print(\"validation loss : {:.6f} \".format(val_loss/len(dset_val)))\n",
        "          val_loss_val=val_loss/len(dset_val)\n",
        "          val_loss_my.append(float(\"{:.6f}\".format(val_loss/len(dset_val)).strip()))\n",
        "          \n",
        "    #plot(val_loss_gph,train_loss_gph)\n",
        "    print(\"Train loss : {:.6f}\".format(train_loss/len(dset_train)))\n",
        "    if i==epoch:\n",
        "      flag=False\n",
        "      break\n",
        "  \n",
        "train(0)\n",
        "\n",
        "\n",
        "#print(\"validation MIN loss obtained: {:.6f}\".format(min_loss))\n",
        "net=net.eval()\n",
        "correct = 0\n",
        "total = 0\n",
        "data1 = []\n",
        "with torch.no_grad():\n",
        "      for data in train_loader:\n",
        "          images, labels = data\n",
        "          labels=labels.cuda()\n",
        "          outputs1, outputs2 = net(images.cuda())\n",
        "          data1.append(outputs1)\n",
        "          _, predicted = torch.max(outputs2.data, 1)\n",
        "          total += labels.size(0)\n",
        "          correct += (predicted == labels).sum().item()\n",
        "\n",
        "print('Accuracy of the network on the train images: %d %%' % (\n",
        "      100 * correct / total))\n",
        "\n",
        "#print(\"validation MIN loss obtained: {:.6f}\".format(min_loss))\n",
        "net=net.eval()\n",
        "correct = 0\n",
        "total = 0\n",
        "data2 = []\n",
        "with torch.no_grad():\n",
        "      for data in val_loader:\n",
        "          images, labels = data\n",
        "          labels=labels.cuda()\n",
        "          outputs1, outputs2 = net(images.cuda())\n",
        "          data2.append(outputs1)\n",
        "          _, predicted = torch.max(outputs2.data, 1)\n",
        "          total += labels.size(0)\n",
        "          correct += (predicted == labels).sum().item()\n",
        "\n",
        "print('Accuracy of the network on the validation images: %d %%' % (\n",
        "      100 * correct / total))\n",
        "#print(train_loss_gph)\n",
        "\n",
        "plot(val_loss_my,train_loss_my)\n",
        "'''\n",
        "net=net.eval()\n",
        "correct = 0\n",
        "total = 0\n",
        "data3 = []\n",
        "with torch.no_grad():\n",
        "      for data in test_loader:\n",
        "          images, labels = data\n",
        "          labels=labels.cuda()\n",
        "          outputs1, outputs2 = net(images.cuda())\n",
        "          data3.append(outputs1)\n",
        "          _, predicted = torch.max(outputs2.data, 1)\n",
        "          total += labels.size(0)\n",
        "          correct += (predicted == labels).sum().item()\n",
        "\n",
        "print('Accuracy of the network on the test images: %d %%' % (\n",
        "      100 * correct / total))\n",
        "\n",
        "\n",
        "print(\"validation MIN loss obtained: {:.6f}\".format(min_loss))\n",
        "net=net.eval()\n",
        "correct = 0\n",
        "total = 0\n",
        "data3 = []\n",
        "with torch.no_grad():\n",
        "      for data in test_loader:\n",
        "          images, labels = data\n",
        "          labels=labels.cuda()\n",
        "          outputs1, outputs2 = net(images.cuda())\n",
        "          data3.append(outputs1)\n",
        "          _, predicted = torch.max(outputs2.data, 1)\n",
        "          total += labels.size(0)\n",
        "          correct += (predicted == labels).sum().item()\n",
        "\n",
        "print('Accuracy of the network on the test images: %d %%' % (\n",
        "      100 * correct / total))\n",
        "\n",
        "state1 = {\n",
        "    \"Model_State\": net.cpu().state_dict(),\n",
        "    \"Optimiser_State\": optimizer.state_dict(),\n",
        "\n",
        "}\n",
        "torch.save(state1,os.path.join(snapshot_path,\"model_\"+model_name1+'.pth'))\n",
        "\n",
        "p = train(100)\n",
        "\n",
        "temp=p\n",
        "import csv\n",
        "labels=[]\n",
        "for i in range(len(temp[0].tolist()[0])):\n",
        "  labels.append(\"Plain\"+str(i+1))\n",
        "with open (\"/content/drive/My Drive/ND Sir's Project/HErlev_PlainNet.csv\",'w+',newline='') as file:\n",
        "  writer=csv.writer(file)\n",
        "  writer.writerow(labels)\n",
        "  for i in range(len(temp)):\n",
        "    row=temp[i].tolist()[0]\n",
        "    writer.writerow(row)\n",
        "'''\n",
        "\n"
      ]
    },
    {
      "cell_type": "code",
      "execution_count": null,
      "metadata": {
        "colab": {
          "base_uri": "https://localhost:8080/"
        },
        "id": "KwML8V7bAfal",
        "outputId": "38e53c1c-2064-4d0d-d7c4-cfdfbfec0675"
      },
      "outputs": [
        {
          "output_type": "stream",
          "name": "stdout",
          "text": [
            "model loaded successfully\n",
            "starting training after epoch:  40\n"
          ]
        }
      ],
      "source": [
        "load_model=snapshot_path+'/model_'+model_name+'.pt'\n",
        "loaded_flag=False\n",
        "#net = net.cuda()\n",
        "if os.path.exists(load_model):\n",
        "    checkpoint=torch.load(load_model)\n",
        "    net.load_state_dict(checkpoint['model_state'])\n",
        "    optimizer.load_state_dict(checkpoint['optimizer_state'])\n",
        "    print(\"model loaded successfully\")\n",
        "    print('starting training after epoch: ',checkpoint['epoch'])\n",
        "    loaded_flag=True"
      ]
    },
    {
      "cell_type": "code",
      "execution_count": null,
      "metadata": {
        "id": "I9FENLu9AnZC",
        "colab": {
          "base_uri": "https://localhost:8080/"
        },
        "outputId": "646114c0-6ddd-4af3-b1e1-6f3502705ba9"
      },
      "outputs": [
        {
          "output_type": "stream",
          "name": "stdout",
          "text": [
            "Train MIN loss obtained: 99999.000000\n"
          ]
        },
        {
          "output_type": "stream",
          "name": "stderr",
          "text": [
            "/usr/local/lib/python3.7/dist-packages/torch/utils/data/dataloader.py:490: UserWarning: This DataLoader will create 18 worker processes in total. Our suggested max number of worker in current system is 2, which is smaller than what this DataLoader is going to create. Please be aware that excessive worker creation might get DataLoader running slow or even freeze, lower the worker number to avoid potential slowness/freeze if necessary.\n",
            "  cpuset_checked))\n"
          ]
        },
        {
          "output_type": "stream",
          "name": "stdout",
          "text": [
            "Accuracy of the network on the train images: 98 %\n",
            "validation MIN loss obtained: 99999.000000\n",
            "Accuracy of the network on the test images: 76 %\n"
          ]
        }
      ],
      "source": [
        "##### LOADING DATA WITH BATCH SIZE 1 ################\n",
        "\n",
        "#test_trans=t.Compose([t.Resize((224,224)),t.ToTensor()])\n",
        "dset_train=torchvision.datasets.ImageFolder(root=train_path,transform=test_trans)\n",
        "\n",
        "\n",
        "#dset_test=torchvision.datasets.ImageFolder(root=test_path,transform=test_trans)\n",
        "dset_val=torchvision.datasets.ImageFolder(root=val_path,transform=test_trans)\n",
        "\n",
        "\n",
        "train_loader=torch.utils.data.DataLoader(dset_train,batch_size=1,shuffle=False,num_workers=18)#,drop_last=True)\n",
        "val_loader=torch.utils.data.DataLoader(dset_val,batch_size=1,shuffle=False,num_workers=18)#,drop_last=True)\n",
        "#test_loader=torch.utils.data.DataLoader(dset_test,batch_size=1,num_workers=16)#, drop_last=True)\n",
        "\n",
        "############### EXTRACTION OF FEATURES ############\n",
        "\n",
        "net = net.cuda()\n",
        "\n",
        "print(\"Train MIN loss obtained: {:.6f}\".format(min_loss))\n",
        "net=net.eval()\n",
        "correct = 0\n",
        "total = 0\n",
        "data1 = []\n",
        "train_label = []\n",
        "with torch.no_grad():\n",
        "      for data in train_loader:\n",
        "          images, labels = data\n",
        "          labels=labels.cuda()\n",
        "          outputs1, outputs2 = net(images.cuda())\n",
        "          data1.append(outputs1)\n",
        "          train_label.append(labels)\n",
        "          _, predicted = torch.max(outputs2.data, 1)\n",
        "          total += labels.size(0)\n",
        "          correct += (predicted == labels).sum().item()\n",
        "\n",
        "print('Accuracy of the network on the train images: %d %%' % (\n",
        "      100 * correct / total))\n",
        "\n",
        "print(\"validation MIN loss obtained: {:.6f}\".format(min_loss))\n",
        "net=net.eval()\n",
        "correct = 0\n",
        "total = 0\n",
        "data2 = []\n",
        "val_label = []\n",
        "with torch.no_grad():\n",
        "      for data in val_loader:\n",
        "          images, labels = data\n",
        "          labels=labels.cuda()\n",
        "          outputs1, outputs2 = net(images.cuda())\n",
        "          data2.append(outputs1)\n",
        "          val_label.append(labels)\n",
        "          _, predicted = torch.max(outputs2.data, 1)\n",
        "          total += labels.size(0)\n",
        "          correct += (predicted == labels).sum().item()\n",
        "\n",
        "print('Accuracy of the network on the test images: %d %%' % (\n",
        "      100 * correct / total))\n",
        "\n",
        "'''\n",
        "print(\"validation MIN loss obtained: {:.6f}\".format(min_loss))\n",
        "net=net.eval()\n",
        "correct = 0\n",
        "total = 0\n",
        "data3 = []\n",
        "with torch.no_grad():\n",
        "      for data in test_loader:\n",
        "          images, labels = data\n",
        "          labels=labels.cuda()\n",
        "          outputs1, outputs2 = net(images.cuda())\n",
        "          data3.append(outputs1)\n",
        "          _, predicted = torch.max(outputs2.data, 1)\n",
        "          total += labels.size(0)\n",
        "          correct += (predicted == labels).sum().item()\n",
        "\n",
        "print('Accuracy of the network on the test images: %d %%' % (\n",
        "      100 * correct / total))\n",
        "\n",
        "'''\n",
        "\n",
        "data_all = data1+data2\n",
        "total_label = train_label+val_label"
      ]
    },
    {
      "cell_type": "code",
      "execution_count": null,
      "metadata": {
        "id": "4NloAdDKAvIG"
      },
      "outputs": [],
      "source": [
        "####### LOADING THE CSV #############\n",
        "\n",
        "#temp=data_all\n",
        "\n",
        "temp = data_all\n",
        "import csv\n",
        "labels=[]\n",
        "\n",
        "#for i in range(len(temp[0].tolist()[0])):\n",
        " # labels.append(\"Resnet18_\"+str(i+1))\n",
        "with open (feature_fileName,'w+',newline='') as file:\n",
        "  writer=csv.writer(file)\n",
        "  #writer.writerow(labels)\n",
        "  for i in range(len(temp)):\n",
        "    row=temp[i].tolist()[0]\n",
        "    writer.writerow(row)"
      ]
    },
    {
      "cell_type": "code",
      "execution_count": null,
      "metadata": {
        "id": "NM2IQnFpItme"
      },
      "outputs": [],
      "source": [
        "!pip install numpy\n",
        "!pip install sklearn\n",
        "!pip install matplotlib\n",
        "!pip install ReliefF\n",
        "!pip install -U Py_FS\n",
        "\n",
        "from numpy import genfromtxt\n",
        "from sklearn import datasets\n",
        "from Py_FS.datasets import get_dataset\n",
        "from sklearn.model_selection import train_test_split\n",
        "import numpy as np\n",
        "import pandas as pd\n",
        "#from Py_FS.wrapper.nature_inspired.BBA import BBA as FS\n"
      ]
    },
    {
      "cell_type": "code",
      "execution_count": null,
      "metadata": {
        "id": "DpKghyoC-VLY"
      },
      "outputs": [],
      "source": [
        "my_data = genfromtxt(feature_fileName, delimiter=',')\n",
        "\n",
        "\n",
        "print(my_data.shape)\n",
        "\n",
        "data=my_data\n",
        "\n",
        "my_data_lebal = genfromtxt(label_fileName, delimiter=',')\n",
        "\n",
        "my_data_lebal_1= np.delete(my_data_lebal, (0), axis=0)\n",
        "target=my_data_lebal_1[ :,1]\n",
        "print(target.shape)\n"
      ]
    },
    {
      "cell_type": "code",
      "execution_count": null,
      "metadata": {
        "id": "MSFTIxRi_ioZ"
      },
      "outputs": [],
      "source": [
        ""
      ]
    },
    {
      "cell_type": "code",
      "source": [
        "\n",
        "#from Py_FS.wrapper.nature_inspired.CS import CS as FS\n",
        "from Py_FS.wrapper.nature_inspired.BBA import BBA as FS\n",
        "\n",
        "data=genfromtxt(feature_fileName, delimiter=',')#ranked_solution.ranked_features[: , :N] #\n",
        "solution = FS(num_agents=30, max_iter=100, train_data=data, train_label=target, save_conv_graph=True)"
      ],
      "metadata": {
        "id": "tyulfdOfOB7Z"
      },
      "execution_count": null,
      "outputs": []
    },
    {
      "cell_type": "code",
      "execution_count": null,
      "metadata": {
        "id": "CdnYsGBddmtI"
      },
      "outputs": [],
      "source": [
        "solution.best_agent"
      ]
    },
    {
      "cell_type": "code",
      "source": [
        "numberof_wrapper_feature=0\n",
        "for featureValue in solution.best_agent :\n",
        "  if featureValue==1:\n",
        "    numberof_wrapper_feature=numberof_wrapper_feature+1\n",
        "print(numberof_wrapper_feature)\n",
        "\n",
        "\n",
        "\n"
      ],
      "metadata": {
        "id": "5WoWhVjIyEGW",
        "colab": {
          "base_uri": "https://localhost:8080/"
        },
        "outputId": "55aa89cd-b91a-4ae2-9b36-568e603ce5e2"
      },
      "execution_count": null,
      "outputs": [
        {
          "output_type": "stream",
          "name": "stdout",
          "text": [
            "1067\n"
          ]
        }
      ]
    },
    {
      "cell_type": "code",
      "source": [
        ""
      ],
      "metadata": {
        "id": "nhhay8DnwS5o"
      },
      "execution_count": null,
      "outputs": []
    },
    {
      "cell_type": "code",
      "execution_count": null,
      "metadata": {
        "id": "3u_-bkmYd2RP"
      },
      "outputs": [],
      "source": [
        "solution.best_fitness\n"
      ]
    },
    {
      "cell_type": "code",
      "execution_count": null,
      "metadata": {
        "id": "YMuqq5_WB1LM"
      },
      "outputs": [],
      "source": [
        "solution.final_population\n"
      ]
    },
    {
      "cell_type": "code",
      "execution_count": null,
      "metadata": {
        "id": "yuceszZhB0y_"
      },
      "outputs": [],
      "source": [
        "solution.final_fitness\n"
      ]
    },
    {
      "cell_type": "code",
      "execution_count": null,
      "metadata": {
        "id": "BWg7zEhlB0dH"
      },
      "outputs": [],
      "source": [
        "solution.final_accuracy\n"
      ]
    },
    {
      "cell_type": "code",
      "execution_count": null,
      "metadata": {
        "id": "CGne9WT3B0Gf"
      },
      "outputs": [],
      "source": [
        "solution.convergence_curve\n"
      ]
    },
    {
      "cell_type": "code",
      "execution_count": null,
      "metadata": {
        "id": "kC3Ep3jFCAcu"
      },
      "outputs": [],
      "source": [
        "solution.execution_time"
      ]
    },
    {
      "cell_type": "code",
      "source": [
        "solution.num_features"
      ],
      "metadata": {
        "id": "4yLE1tncTNR-"
      },
      "execution_count": null,
      "outputs": []
    },
    {
      "cell_type": "code",
      "execution_count": null,
      "metadata": {
        "id": "CYTh2qOleQOK"
      },
      "outputs": [],
      "source": [
        "train_X, test_X, train_Y, test_Y = train_test_split(data, target, stratify=target, test_size=0.2, random_state=2)"
      ]
    },
    {
      "cell_type": "code",
      "execution_count": null,
      "metadata": {
        "id": "UTfWdA_1egvV"
      },
      "outputs": [],
      "source": [
        "from  Py_FS.evaluation import evaluate"
      ]
    },
    {
      "cell_type": "code",
      "execution_count": null,
      "metadata": {
        "id": "SpUwM0-OemTK",
        "colab": {
          "base_uri": "https://localhost:8080/",
          "height": 352
        },
        "outputId": "30e079d4-1dab-4057-a75b-b3c387f54718"
      },
      "outputs": [
        {
          "output_type": "stream",
          "name": "stderr",
          "text": [
            "/usr/local/lib/python3.7/dist-packages/sklearn/utils/deprecation.py:87: FutureWarning: Function plot_confusion_matrix is deprecated; Function `plot_confusion_matrix` is deprecated in 1.0 and will be removed in 1.2. Use one of the class methods: ConfusionMatrixDisplay.from_predictions or ConfusionMatrixDisplay.from_estimator.\n",
            "  warnings.warn(msg, category=FutureWarning)\n"
          ]
        },
        {
          "output_type": "display_data",
          "data": {
            "text/plain": [
              "<Figure size 432x288 with 2 Axes>"
            ],
            "image/png": "[encoded data removed]"
          },
          "metadata": {
            "needs_background": "light"
          }
        }
      ],
      "source": [
        "if(len(np.unique(test_Y))) == 2:\n",
        "  # if it is binary classification, you will get a precision, recall and f1_score for each of the labels\n",
        "  result = evaluate(train_X, test_X, train_Y, test_Y, agent=solution.best_agent, classifier='knn', save_conf_mat=True)\n",
        "else:  \n",
        "  # for a multi-class problem, you will get a avreaged precision, recall and f1_score\n",
        "  # Options for averaging:\n",
        "  # 1. macro\n",
        "  # 2. weighted\n",
        "  # 3. samples\n",
        "  result = evaluate(train_X, test_X, train_Y, test_Y, agent=solution.best_agent, classifier='knn', save_conf_mat=True, averaging=\"weighted\")"
      ]
    },
    {
      "cell_type": "code",
      "execution_count": null,
      "metadata": {
        "id": "1kN_MtCLewO7"
      },
      "outputs": [],
      "source": [
        "result.predictions"
      ]
    },
    {
      "cell_type": "code",
      "execution_count": null,
      "metadata": {
        "id": "VPr4lfv_ey18",
        "colab": {
          "base_uri": "https://localhost:8080/"
        },
        "outputId": "14000a54-f36f-4218-c659-67971535f1d7"
      },
      "outputs": [
        {
          "output_type": "execute_result",
          "data": {
            "text/plain": [
              "0.9382022471910112"
            ]
          },
          "metadata": {},
          "execution_count": 34
        }
      ],
      "source": [
        "result.accuracy"
      ]
    },
    {
      "cell_type": "code",
      "execution_count": null,
      "metadata": {
        "id": "WUZE3GKee5dI",
        "colab": {
          "base_uri": "https://localhost:8080/"
        },
        "outputId": "71164b60-c67d-411d-bc32-86f1c726d406"
      },
      "outputs": [
        {
          "output_type": "execute_result",
          "data": {
            "text/plain": [
              "0.9382022471910112"
            ]
          },
          "metadata": {},
          "execution_count": 35
        }
      ],
      "source": [
        "result.recall"
      ]
    },
    {
      "cell_type": "code",
      "execution_count": null,
      "metadata": {
        "id": "49bd2KUVe_Zg",
        "colab": {
          "base_uri": "https://localhost:8080/"
        },
        "outputId": "8a0caf9d-89b8-47ed-cc27-d8c4233d789a"
      },
      "outputs": [
        {
          "output_type": "execute_result",
          "data": {
            "text/plain": [
              "0.9426190124186871"
            ]
          },
          "metadata": {},
          "execution_count": 36
        }
      ],
      "source": [
        "result.precision"
      ]
    },
    {
      "cell_type": "code",
      "execution_count": null,
      "metadata": {
        "id": "_FgY9qntfDXd",
        "colab": {
          "base_uri": "https://localhost:8080/"
        },
        "outputId": "c9a437fd-1402-429d-e265-08ccd18f28fc"
      },
      "outputs": [
        {
          "output_type": "execute_result",
          "data": {
            "text/plain": [
              "0.9385948402682867"
            ]
          },
          "metadata": {},
          "execution_count": 37
        }
      ],
      "source": [
        "result.f1_score"
      ]
    },
    {
      "cell_type": "code",
      "execution_count": null,
      "metadata": {
        "id": "m_yCAP2yfJG5"
      },
      "outputs": [],
      "source": [
        "result.confusion_matrix"
      ]
    }
  ],
  "metadata": {
    "accelerator": "GPU",
    "colab": {
      "name": "ExtractFeatureExtractionAndEvalute.ipynb",
      "provenance": [],
      "collapsed_sections": []
    },
    "kernelspec": {
      "display_name": "Python 3",
      "name": "python3"
    },
    "language_info": {
      "name": "python"
    }
  },
  "nbformat": 4,
  "nbformat_minor": 0
}